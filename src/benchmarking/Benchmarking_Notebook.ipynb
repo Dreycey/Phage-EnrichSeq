{
 "cells": [
  {
   "cell_type": "markdown",
   "metadata": {},
   "source": [
    "# Benchmarking notebook\n",
    "\n",
    "This notebook contains all of the methods and analysis for performing benchmarking"
   ]
  },
  {
   "cell_type": "markdown",
   "metadata": {},
   "source": [
    "# Imports and dependencies"
   ]
  },
  {
   "cell_type": "code",
   "execution_count": 1,
   "metadata": {},
   "outputs": [],
   "source": [
    "import os\n",
    "import glob\n",
    "from pathlib import Path\n",
    "from enum import Enum\n",
    "import numpy as np\n",
    "from dataclasses import dataclass\n",
    "from typing import List, Dict\n",
    "import matplotlib.pyplot as plt\n",
    "import pickle\n",
    "import json"
   ]
  },
  {
   "cell_type": "markdown",
   "metadata": {},
   "source": [
    "# Notebook parameters\n",
    "These parameters are used throughout the notebook for benchmarking. These parameters include paths, tuning, and other various parameter settings."
   ]
  },
  {
   "cell_type": "code",
   "execution_count": 2,
   "metadata": {},
   "outputs": [],
   "source": [
    "file_with_names = \"./abundance.tsv\"\n",
    "accession2taxid_file = \"../../database/krakenDB/taxonomy/nucl_gb.accession2taxid\"\n"
   ]
  },
  {
   "cell_type": "code",
   "execution_count": 3,
   "metadata": {},
   "outputs": [],
   "source": [
    "# read in the NCBI to Tax id namings\n",
    "with open('out_dictionary.txt') as f:\n",
    "    dictionary_str = f.read()\n",
    "dictionary = json.loads(dictionary_str)"
   ]
  },
  {
   "cell_type": "markdown",
   "metadata": {},
   "source": [
    "### create mapping dictionary (don't need to run, done offline and included)\n",
    "This step is time consuminig so better done offline\n",
    "\n",
    "**NOTE**: This is skipped assuming the above works"
   ]
  },
  {
   "cell_type": "code",
   "execution_count": 43,
   "metadata": {},
   "outputs": [],
   "source": [
    "def get_needed_ncbi_ids():\n",
    "    \"\"\"\n",
    "    gets NCBI ids\n",
    "    \"\"\"\n",
    "    file_with_names_opened = open(file_with_names)\n",
    "    \n",
    "    # grab all needed NCBI ids\n",
    "    ncbi_ids = []\n",
    "    line = file_with_names_opened.readline()\n",
    "    line_counter = 0\n",
    "    while(line):\n",
    "        if (line_counter > 0): # skip header\n",
    "            ncbi_id = line.split(\"\\t\")[0]\n",
    "            ncbi_ids.append(ncbi_id)\n",
    "        line = file_with_names_opened.readline()\n",
    "        line_counter += 1\n",
    "        \n",
    "    file_with_names_opened.close()\n",
    "    \n",
    "    return ncbi_ids"
   ]
  },
  {
   "cell_type": "code",
   "execution_count": 44,
   "metadata": {},
   "outputs": [],
   "source": [
    "def create_mapping_dictionary():\n",
    "    \"\"\"\n",
    "    Creates dictionary for mapping NCBI ids to \n",
    "    taxonomy.\n",
    "    \n",
    "    Uses nucl_gb.accession2taxid\n",
    "    \n",
    "    NC_033618\tNC_033618.1\t1931113\t1139918407\n",
    "    \"\"\"\n",
    "    dictionary = {}\n",
    "\n",
    "    # grab taxid mappings\n",
    "    acc2tax_open = open(accession2taxid_file)\n",
    "    line = acc2tax_open.readline()\n",
    "    counter = 0\n",
    "    while(line):\n",
    "        line = acc2tax_open.readline()\n",
    "        line = line.split(\"\\t\")\n",
    "        accession = line[1]\n",
    "        taxid = line[2]\n",
    "        if accession in ncbi_ids:\n",
    "            dictionary[accession] = taxid\n",
    "        if (len(dictionary.keys()) == len(ncbi_ids)):\n",
    "            break\n",
    "        counter += 1\n",
    "        \n",
    "        if (counter % 100000 == 0):\n",
    "            print(f\"{counter} lines have been parsed \\n\")\n",
    "    acc2tax_open.close()\n",
    "\n",
    "    return dictionary\n",
    "\n",
    "if not dictionary:\n",
    "    ncbi_ids = get_needed_ncbi_ids()\n",
    "    dictionary = create_mapping_dictionary()"
   ]
  },
  {
   "cell_type": "markdown",
   "metadata": {},
   "source": [
    "# Parsers\n",
    "These methods are used for parsing all of the tools being benchmarked. These parsers are passed to a general parser function, giving a strategy-pattern-like method for obtaining result from tools."
   ]
  },
  {
   "cell_type": "code",
   "execution_count": 4,
   "metadata": {},
   "outputs": [],
   "source": [
    "def parser_enrichseq(enrichseq_dir: Path, delim=\",\"):\n",
    "    \"\"\"\n",
    "    Description\n",
    "    -----------\n",
    "        This function parses the enrichseq output directory.\n",
    "        \n",
    "    Input\n",
    "    -----------\n",
    "        1. Path to a singular EnrichSeq output directory.\n",
    "        2. [optional; Def=','] - delimiter\n",
    "        \n",
    "    Output\n",
    "    -----------\n",
    "        Abundance Dictionary containing:\n",
    "            1. taxid abundances\n",
    "            abundances_dict = {'tax_id_1' : 33,\n",
    "                               'tax_id_2' : 33,\n",
    "                               ...,\n",
    "                               'tax_id_N' : 33,\n",
    "                              }\n",
    "            2. cluster abundances\n",
    "            abundances_dict = {'cluster_1' : 33,\n",
    "                               'cluster_2' : 33,\n",
    "                               ...,\n",
    "                               'cluster_M' : 33,\n",
    "                              }\n",
    "    \"\"\"\n",
    "    # nested dictionary of different abundance measurements\n",
    "    abundances = {\"taxid_abundance\" : {},\"cluster_abundance\" : {}} \n",
    "    # get paths\n",
    "    output_path = enrichseq_dir / Path('enrichseq/output_files/')\n",
    "    taxid_abundances_path = output_path / Path('taxid_abundances.csv')\n",
    "    cluster_abundances_path = output_path / Path('cluster_abundances.csv')\n",
    "    csvs_to_parse = {\"taxid_abundance\" : taxid_abundances_path, \n",
    "                     \"cluster_abundance\" : cluster_abundances_path}\n",
    "    # parse abundance CSVs\n",
    "    for csv_name, csv_file in csvs_to_parse.items():\n",
    "        with open(csv_file, \"r\") as csv_file_opened:\n",
    "            csv_file_lines = csv_file_opened.readlines() # never that big, read all into RAM\n",
    "            for line in csv_file_lines:\n",
    "                tax_clust_id, abundance_val = line.strip(\"\\n\").split(delim)\n",
    "                abundances[csv_name][tax_clust_id] = float(abundance_val)\n",
    "\n",
    "    return abundances\n",
    "\n",
    "def parser_fastviromeexplorer(directory, name_column=0, counts_column=3, delim=\"\\t\"):\n",
    "    \"\"\"                          \n",
    "    Description\n",
    "    -----------\n",
    "        This function parses the FastViromeExplorer output directory.\n",
    "        \n",
    "    Input\n",
    "    -----------\n",
    "        1. Path to a singular FastViromeExplorer output directory.\n",
    "        2. column index corresponding to NCBI id\n",
    "        3. column index corresponding to the read counts\n",
    "        4. [optional; Def='\\t'] - delimiter\n",
    "        \n",
    "    Output\n",
    "    -----------\n",
    "        Abundance Dictionary containing:\n",
    "            1. taxid abundances\n",
    "            abundances_dict = {'tax_id_1' : 33,\n",
    "                               'tax_id_2' : 33,\n",
    "                               ...,\n",
    "                               'tax_id_N' : 33,\n",
    "                              }\n",
    "    \"\"\"\n",
    "    # init datastructures\n",
    "    abundances = {\"taxid_abundance\" : {}} # <tax/clust>id : abundance\n",
    "    # get paths\n",
    "    taxid_abundances = directory / Path('abundance.tsv')\n",
    "    # parse abundance CSVs\n",
    "    csvs_to_parse = {\"taxid_abundance\" : taxid_abundances}\n",
    "    total_abundance = 0\n",
    "    for csv_name, csv_file in csvs_to_parse.items():\n",
    "        with open(csv_file, \"r\") as csv_file_opened:\n",
    "            csv_file_lines = csv_file_opened.readlines() # never that big, read all into RAM\n",
    "            for line_ind, line in enumerate(csv_file_lines):\n",
    "                if line_ind > 0: # skip header\n",
    "                    ncbi_id = line.strip(\"\\n\").split(delim)[name_column]\n",
    "                    counts_val = line.strip(\"\\n\").split(delim)[counts_column]\n",
    "\n",
    "                    # convert NCBI name to taxid, save counts\n",
    "                    if ncbi_id in dictionary:\n",
    "                        tax_clust_id = dictionary[ncbi_id] # 'dictionary' imported above\n",
    "                    else:\n",
    "                        tax_clust_id = 'unk'\n",
    "                    abundances[csv_name][tax_clust_id] = float(counts_val)\n",
    "                    total_abundance += float(counts_val)\n",
    "    \n",
    "    # update abundances dictionary\n",
    "    ids_to_del = []\n",
    "    for tax_id, abundance_val in abundances[\"taxid_abundance\"].items():\n",
    "        if total_abundance > 0:\n",
    "            abundances[\"taxid_abundance\"][tax_id] /= total_abundance #normalize\n",
    "        if abundances[\"taxid_abundance\"][tax_id] < 0.001:\n",
    "            ids_to_del.append(tax_id)\n",
    "    # delete 0 value taxids\n",
    "    for val in ids_to_del:\n",
    "        del abundances[\"taxid_abundance\"][val]\n",
    "\n",
    "    return abundances\n",
    "\n",
    "def parse_simulated_fasta(fasta_path):\n",
    "    \"\"\"                          \n",
    "    Description\n",
    "    -----------\n",
    "        This function parses the simulated true fasta file used\n",
    "        for testing.\n",
    "        \n",
    "    Input\n",
    "    -----------\n",
    "        1. Path to a singular simulated fasta file\n",
    "        \n",
    "    Output\n",
    "    -----------\n",
    "        Abundance Dictionary containing:\n",
    "            1. taxid abundances\n",
    "            abundances_dict = {'tax_id_1' : 33,\n",
    "                               'tax_id_2' : 33,\n",
    "                               ...,\n",
    "                               'tax_id_N' : 33,\n",
    "                              }\n",
    "    \"\"\"\n",
    "    abundances = {'taxid_abundance' : {}}\n",
    "    total_counts = 0\n",
    "    with open(fasta_path, \"r\") as fasta_opened:\n",
    "        line = fasta_opened.readline()\n",
    "        while (line):\n",
    "            if (line[0] == \">\"):\n",
    "                ncbi_id = line[1:].split(\"|\")[0].split(\"-\")[0]\n",
    "                # dictioinary from FastViromeExplorer, obtained above\n",
    "                if ncbi_id in dictionary:\n",
    "                    name = dictionary[line[1:].split(\"|\")[0].split(\"-\")[0]]\n",
    "                else:\n",
    "                    name = \"unk\"\n",
    "                # increment abundance level per read count\n",
    "                if name in abundances['taxid_abundance']:\n",
    "                    abundances['taxid_abundance'][name] += 1\n",
    "                else:\n",
    "                    abundances['taxid_abundance'][name] = 1\n",
    "                total_counts += 1\n",
    "                # print update\n",
    "                if (total_counts % 1000000 == 0):\n",
    "                    print(f\"{total_counts} lines parsed\")\n",
    "            line = fasta_opened.readline()\n",
    "            \n",
    "    #turn counts into abundances - normalize\n",
    "    for tax_id in abundances['taxid_abundance'].keys():\n",
    "        abundances['taxid_abundance'][tax_id] /= total_counts #normalize\n",
    "    return abundances"
   ]
  },
  {
   "cell_type": "markdown",
   "metadata": {},
   "source": [
    "## Kraken2 and Bracken Parsers"
   ]
  },
  {
   "cell_type": "code",
   "execution_count": 5,
   "metadata": {},
   "outputs": [],
   "source": [
    "def parser_bracken(directory, taxid_column=1, abundance_column=6, delim=\"\\t\"):\n",
    "    \"\"\"\n",
    "    Description\n",
    "    -----------\n",
    "        This function parses the enrichseq output directory.\n",
    "        \n",
    "    Input\n",
    "    -----------\n",
    "        1. Path to a singular Bracken output directory.\n",
    "        2. [optional; Def='\\t'] - delimiter\n",
    "        \n",
    "    Output\n",
    "    -----------\n",
    "        Abundance Dictionary containing:\n",
    "            1. taxid abundances\n",
    "            abundances_dict = {'tax_id_1' : 33,\n",
    "                               'tax_id_2' : 33,\n",
    "                               ...,\n",
    "                               'tax_id_N' : 33,\n",
    "                              }\n",
    "    \"\"\"\n",
    "    # dictionary of bracken abundance \n",
    "    abundances = {'taxid_abundance' : {}}\n",
    "    # get paths\n",
    "    taxid_abundances = directory / Path('abundances.bracken')\n",
    "    \n",
    "    files_to_parse = {\"taxid_abundance\" : taxid_abundances}\n",
    "    \n",
    "    # parse bracken abundance files\n",
    "    for file_name, bracken_file in files_to_parse.items():\n",
    "        with open(bracken_file, \"r\") as bracken_file_opened:\n",
    "            bracken_file_lines = bracken_file_opened.readlines() # never that big, read all into RAM\n",
    "            for line_ind, line in enumerate(bracken_file_lines):\n",
    "                if line_ind > 0: # skip header\n",
    "#                     ncbi_id = line.strip(\"\\n\").split(delim)[name_column]\n",
    "#                     counts_val = line.strip(\"\\n\").split(delim)[counts_column]\n",
    "                    tax_id = line.strip(\"\\n\").split(delim)[taxid_column]\n",
    "                    abundance_val = line.strip(\"\\n\").split(delim)[abundance_column]\n",
    "                    abundances[file_name][tax_id] = float(abundance_val)\n",
    "    \n",
    "    # update abundances dictionary\n",
    "    ids_to_del = []\n",
    "    for tax_id, abundance_val in abundances[\"taxid_abundance\"].items():\n",
    "        if abundances[\"taxid_abundance\"][tax_id] < 0.001:\n",
    "            ids_to_del.append(tax_id)\n",
    "    # delete 0 value taxids\n",
    "    for val in ids_to_del:\n",
    "        del abundances[\"taxid_abundance\"][val]\n",
    "\n",
    "    return abundances"
   ]
  },
  {
   "cell_type": "markdown",
   "metadata": {},
   "source": [
    "## Testing parsing functions using old directory structure"
   ]
  },
  {
   "cell_type": "code",
   "execution_count": 7,
   "metadata": {},
   "outputs": [
    {
     "name": "stdout",
     "output_type": "stream",
     "text": [
      "{'taxid_abundance': {'2681618': 0.330471010766504, '10868': 0.3341472256116903, '2886930': 0.331408347698171}}\n",
      "{'taxid_abundance': {'2886930': 0.322980298029803, 'UNK': 0.031225122512251225, '10868': 0.3230953095309531, '2681618': 0.3226992699269927}, 'cluster_abundance': {'C_2': 0.322980298029803, 'UNK': 0.031225122512251225, 'C_1': 0.3230953095309531, 'C_3': 0.3226992699269927}}\n",
      "{'taxid_abundance': {'2886930': 0.5601445317423638, '10868': 0.4398554682576362}}\n"
     ]
    }
   ],
   "source": [
    "# testing parsing functions\n",
    "\n",
    "# Paths\n",
    "fastvirome_test_dir = \"//scratch/summit/dral3008/benchmarking_enrichseq/results/FastViromeExplorer/num_mutations_test/3_genomes_sim_05del_0ins_illumina/\"\n",
    "enrichseq_test_dir = \"//scratch/summit/dral3008/benchmarking_enrichseq/results/enrichseq/num_mutations_test/3_genomes_sim_05del_0ins_illumina./\"\n",
    "truth_test_dir = \"//scratch/summit/dral3008/benchmarking_enrichseq/tests/num_mutations_test/3_genomes_sim_05del_0ins_illumina.fa\"\n",
    "# run tests\n",
    "fastvirome_values = parser_fastviromeexplorer(fastvirome_test_dir)\n",
    "enrichseq_values = parser_enrichseq(enrichseq_test_dir)\n",
    "true_values = parse_simulated_fasta(truth_test_dir)\n",
    "print(fastvirome_values)\n",
    "print(enrichseq_values)\n",
    "print(true_values)"
   ]
  },
  {
   "cell_type": "code",
   "execution_count": 8,
   "metadata": {},
   "outputs": [
    {
     "name": "stdout",
     "output_type": "stream",
     "text": [
      "{'taxid_abundance': {'10658': 0.19845, '10742': 0.25694, '1977411': 0.23527, '2011076': 0.29346, '562': 0.0045, '28901': 0.00211}}\n"
     ]
    }
   ],
   "source": [
    "# testing bracken parser\n",
    "\n",
    "bracken_test_dir = \"//scratch/summit/dral3008/benchmarking_enrichseq/results/Bracken/num_genomes_test/5_genomes_sim_illumina/\"\n",
    "bracken_values = parser_bracken(bracken_test_dir)\n",
    "print(bracken_values)"
   ]
  },
  {
   "cell_type": "markdown",
   "metadata": {},
   "source": [
    "## Testing parsing functions using new directory structure \n",
    "(with \"test_1\", \"test_2\", etc)\n",
    "\n",
    "**Parser functions work**"
   ]
  },
  {
   "cell_type": "code",
   "execution_count": 13,
   "metadata": {},
   "outputs": [
    {
     "name": "stdout",
     "output_type": "stream",
     "text": [
      "{'taxid_abundance': {'1162290': 0.004962, 'UNK': 0.056458, '446529': 0.00497, '929814': 0.005052, '753085': 0.004948, '2163591': 0.007778, '2079565': 0.010654, '2653759': 0.011978, '2776877': 0.003134, '1792253': 0.004894, '1815972': 0.006996, '1458726': 0.004364, '1076630': 0.004216, '2015873': 0.004952, '1486426': 0.005136, '2301539': 0.004964, '2282909': 0.004056, '2530128': 0.000518, '1150992': 0.004938, '2653274': 0.010058, '2250417': 0.00924, '2024320': 0.003712, '1815590': 0.018, '1701812': 0.004956, '157924': 0.004978, '537874': 0.004962, '2517969': 0.004964, '1897767': 0.004752, '1805956': 0.004974, '584892': 0.004972, '2750850': 0.001524, '2716728': 0.00142, '1348912': 0.004972, '313629': 0.00289, '2488980': 0.001824, '2517966': 0.000482, '1536603': 0.0009, '148603': 0.001928, '2099449': 0.009848, '1173762': 0.004842, '1973454': 0.005084, '2652415': 0.004966, '2052752': 0.004956, '2301650': 0.00773, '1852630': 0.002204, '1871690': 0.00496, '1325372': 0.00496, '1965368': 0.004972, '2656572': 0.000488, '2686469': 0.000392, '2707030': 0.00018, '2743996': 0.002644, '2301701': 0.003366, '2178923': 5.8e-05, '2599873': 0.000294, '2884419': 0.005072, '2060950': 0.008318, '2681608': 0.005096, '2510149': 2e-06, '546805': 0.004954, '2562192': 0.004974, '1109711': 0.004968, '2510942': 0.00496, '2772075': 0.00499, '1837875': 5e-05, '2750846': 4.2e-05, '1175504': 0.0046, '2656603': 5.2e-05, '2601640': 4.4e-05, '1897540': 6.8e-05, '2250401': 2.8e-05, '1161933': 0.004654, '698486': 0.004954, '2315531': 0.003216, '2905681': 0.00496, '2283270': 0.004954, '1391188': 0.004948, '1147146': 0.005692, '2565502': 4e-06, '2499073': 0.004972, '1458860': 0.00496, '2079275': 0.00497, '1458716': 0.004958, '1399941': 0.004946, '470865': 0.001298, '2108359': 0.008604, '2740803': 0.004956, '1124655': 0.004906, '1927024': 0.004958, '1718278': 0.004958, '2772090': 0.004958, '1357714': 0.004946, '2250291': 0.004984, '2686246': 0.00496, '2686244': 0.004968, '754045': 0.004958, '1933412': 0.004976, '1476887': 0.004958, '2880541': 0.004856, '432198': 0.004256, '1636547': 0.004462, '1636545': 0.000506, '670252': 0.004972, '1874539': 0.004974, '1500734': 0.00495, '538979': 0.004954, '1552735': 0.00496, '2546618': 0.004972, '1124849': 0.00497, '2178928': 0.004968, '169684': 0.004962, '1204517': 0.004956, '2759709': 0.005176, '2015865': 0.004966, '1327037': 0.004958, '2024237': 0.004968, '1527514': 0.004954, '2079415': 0.004958, '1821727': 0.00453, '1821541': 0.000234, '1821537': 0.003174, '1056830': 0.00056, '2562138': 0.004964, '12353': 0.00463, '1495285': 4.2e-05, '2024321': 0.00013, '1852625': 0.010072, '2502306': 1e-05, '1863009': 3e-05, '1932889': 3.8e-05, '1655305': 7e-05, '1651198': 2.2e-05, '2502303': 5e-05, '1211280': 0.008414, '879628': 0.001514, '1198014': 4e-06, '1932883': 0.004966, '2678563': 0.005724, '1647408': 0.010846, '2301690': 0.000736, '2301687': 0.002534, '2699738': 0.004962, '2591042': 0.004952, '2716727': 2.4e-05, '1079999': 0.00496, '2483623': 0.004964, '1458711': 0.004976, '2059850': 0.00495, '1566995': 0.004966, '1857100': 0.004958, '345922': 0.004944, '1636263': 0.004966, '430796': 0.00147, '2884424': 0.004968, '1211278': 0.002816, '2108134': 0.001982, '2767576': 0.00512, '1308863': 0.004974, '2772077': 0.004962, '2044561': 0.004962, '1582151': 0.004974, '2315458': 0.004972, '134554': 0.004936, '1883374': 0.004972, '981335': 0.004964, '1622191': 0.004954, '1204538': 0.00497, '1406785': 0.00494, '1933063': 0.004984, '2048007': 0.004972, '2759724': 0.004748, '2681621': 0.004948, '2250382': 0.003096, '1622193': 0.004974, '1262522': 0.004962, '2772089': 0.004974, '2099652': 0.004968, '1480731': 0.004962, '2848882': 0.000168, '2593351': 4e-06, '1225800': 0.004966, '2695836': 0.004952, '2713282': 0.00497, '2070182': 0.00496, '2500827': 0.004966, '2886922': 0.00495, '1500819': 0.006394, '1655022': 0.00056, '1500799': 0.000628, '1500800': 3.2e-05, '925983': 0.004946, '1204516': 0.004952, '1881104': 0.004974, '2492962': 0.007714, '1873341': 0.004962, '2483673': 0.00497, '2736261': 0.004944, '1589298': 0.004958, '1772218': 0.002196, '2024314': 2e-06, '984186': 0.004962, '754067': 0.004964, '1527494': 0.004968, '2591120': 0.001482, '2762402': 8e-06, '2483667': 6e-06, '407392': 0.004966, '2588098': 0.004962, '2772072': 0.004928, '2785247': 0.004956, '1567028': 0.004796, '1530085': 0.004946, '2024336': 0.004972, '673835': 0.00496, '2653273': 0.002542, '2234047': 0.003404, '151538': 0.00497, '2517973': 0.004976, '1449897': 0.00496, '2483666': 8.2e-05, '2483670': 0.000178, '2301695': 0.00028, '2015839': 0.00497, '1654928': 0.001404, '2759177': 0.004972, '1897739': 0.004974, '1916098': 2e-06, '1105327': 0.004964, '1815521': 0.004972, '1476390': 0.004954}, 'cluster_abundance': {'C_165': 0.004962, 'UNK': 0.056458, 'C_67': 0.00497, 'C_143': 0.005052, 'C_12': 0.004948, 'C_38': 0.007778, 'C_36': 0.010654, 'C_37': 0.011978, 'C_39': 0.003134, 'C_27': 0.004894, 'C_20': 0.006996, 'C_24': 0.004364, 'C_22': 0.004216, 'C_69': 0.004952, 'C_21': 0.005136, 'C_77': 0.004964, 'C_40': 0.004056, 'C_46': 0.000518, 'C_224': 0.004938, 'C_49': 0.010058, 'C_48': 0.009246, 'C_123': 0.003734, 'C_122': 0.018, 'C_15': 0.004956, 'C_11': 0.004978, 'C_6': 0.004962, 'C_109': 0.004964, 'C_64': 0.004752, 'C_210': 0.004974, 'C_209': 0.004972, 'C_125': 0.001524, 'C_124': 0.00142, 'C_161': 0.004972, 'C_226': 0.00289, 'C_41': 0.001824, 'C_42': 0.000482, 'C_47': 0.0009, 'C_34': 0.001928, 'C_25': 0.009848, 'C_204': 0.004842, 'C_13': 0.005084, 'C_119': 0.004966, 'C_174': 0.004956, 'C_171': 0.00773, 'C_172': 0.002204, 'C_14': 0.00496, 'C_159': 0.00496, 'C_94': 0.004972, 'C_45': 0.000488, 'C_44': 0.000392, 'C_43': 0.00018, 'C_110': 0.002644, 'C_108': 0.003366, 'C_112': 5.8e-05, 'C_28': 0.000294, 'C_57': 0.005072, 'C_83': 0.008318, 'C_79': 0.005096, 'C_85': 2e-06, 'C_147': 0.004954, 'C_118': 0.004974, 'C_3': 0.004968, 'C_213': 0.00496, 'C_185': 0.00499, 'C_129': 5e-05, 'C_133': 4.2e-05, 'C_33': 0.0046, 'C_29': 5.2e-05, 'C_30': 4.4e-05, 'C_32': 6.8e-05, 'C_31': 2.8e-05, 'C_35': 0.004654, 'C_81': 0.004954, 'C_92': 0.003216, 'C_144': 0.00496, 'C_121': 0.004954, 'C_212': 0.004948, 'C_88': 0.005692, 'C_18': 4e-06, 'C_201': 0.004972, 'C_148': 0.00496, 'C_176': 0.00497, 'C_187': 0.004958, 'C_10': 0.004946, 'C_218': 0.001298, 'C_217': 0.008604, 'C_181': 0.004956, 'C_191': 0.004906, 'C_23': 0.004958, 'C_1': 0.004958, 'C_183': 0.004958, 'C_149': 0.004946, 'C_86': 0.004984, 'C_115': 0.00496, 'C_160': 0.004968, 'C_189': 0.004958, 'C_200': 0.004976, 'C_70': 0.004958, 'C_58': 0.004856, 'C_91': 0.004256, 'C_99': 0.004462, 'C_98': 0.000506, 'C_188': 0.004972, 'C_9': 0.004974, 'C_107': 0.00495, 'C_73': 0.004954, 'C_87': 0.00496, 'C_219': 0.004972, 'C_170': 0.00497, 'C_205': 0.004968, 'C_152': 0.004962, 'C_74': 0.004956, 'C_158': 0.005176, 'C_71': 0.004966, 'C_5': 0.004958, 'C_180': 0.004968, 'C_72': 0.004954, 'C_4': 0.004958, 'C_111': 0.00453, 'C_105': 0.000234, 'C_104': 0.003174, 'C_106': 0.00056, 'C_175': 0.004964, 'C_138': 0.00463, 'C_130': 4.2e-05, 'C_126': 0.00013, 'C_135': 0.010072, 'C_132': 1e-05, 'C_127': 3e-05, 'C_128': 3.8e-05, 'C_139': 7e-05, 'C_131': 5e-05, 'C_155': 0.008414, 'C_156': 0.001514, 'C_157': 4e-06, 'C_178': 0.004966, 'C_194': 0.005724, 'C_193': 0.010846, 'C_196': 0.000736, 'C_195': 0.002534, 'C_192': 0.004962, 'C_206': 0.004952, 'C_134': 2.4e-05, 'C_150': 0.00496, 'C_62': 0.004964, 'C_82': 0.004976, 'C_211': 0.00495, 'C_203': 0.004966, 'C_162': 0.004958, 'C_89': 0.004944, 'C_76': 0.004966, 'C_84': 0.00147, 'C_220': 0.004968, 'C_61': 0.002816, 'C_60': 0.001982, 'C_59': 0.00512, 'C_16': 0.004974, 'C_184': 0.004962, 'C_114': 0.004962, 'C_100': 0.004974, 'C_163': 0.004972, 'C_221': 0.004936, 'C_169': 0.004972, 'C_153': 0.004964, 'C_93': 0.004954, 'C_173': 0.00497, 'C_208': 0.00494, 'C_207': 0.004984, 'C_17': 0.004972, 'C_190': 0.004748, 'C_101': 0.004948, 'C_26': 0.003096, 'C_80': 0.004974, 'C_116': 0.004962, 'C_182': 0.004974, 'C_68': 0.004968, 'C_179': 0.004962, 'C_56': 0.000168, 'C_113': 4e-06, 'C_90': 0.004966, 'C_216': 0.004952, 'C_154': 0.00497, 'C_151': 0.00496, 'C_166': 0.004966, 'C_202': 0.00495, 'C_95': 0.006426, 'C_96': 0.00056, 'C_97': 0.000628, 'C_177': 0.004946, 'C_167': 0.004952, 'C_164': 0.004974, 'C_197': 0.007714, 'C_102': 0.004962, 'C_7': 0.00497, 'C_215': 0.004944, 'C_214': 0.004958, 'C_198': 0.002196, 'C_199': 2e-06, 'C_2': 0.004962, 'C_8': 0.004964, 'C_63': 0.004968, 'C_50': 0.001482, 'C_55': 8e-06, 'C_146': 0.004966, 'C_145': 0.004962, 'C_186': 0.004928, 'C_222': 0.004956, 'C_140': 0.004796, 'C_141': 0.004946, 'C_120': 0.004972, 'C_103': 0.00496, 'C_51': 0.002542, 'C_136': 0.003404, 'C_19': 0.00497, 'C_117': 0.004976, 'C_223': 0.00496, 'C_54': 8.2e-05, 'C_52': 0.000178, 'C_53': 0.00028, 'C_78': 0.00497, 'C_137': 0.001404, 'C_142': 0.004972, 'C_65': 0.004974, 'C_66': 2e-06, 'C_225': 0.004964, 'C_168': 0.004972, 'C_75': 0.004954}}\n",
      "{'taxid_abundance': {'1056833': 0.00679, '1437839': 0.00608, '1784956': 0.00394, '1873891': 0.00771, '1718171': 0.00886, '1327770': 0.00118, '1429912': 0.00726, '1498204': 0.00757, '1701849': 0.00449, '1327772': 0.00139, '1735466': 0.00161, '1327773': 0.00194, '1701845': 0.0012, '1873889': 0.00115, '1429904': 0.00119, '1698441': 0.00201, '1698420': 0.00107, '1468169': 0.00103, '2003503': 0.00877, '1993886': 0.00129, '1089118': 0.00126, '1993862': 0.00125, '540065': 0.0014, '242861': 0.00705, '10704': 0.00703, '1147137': 0.00699, '1327993': 0.00653, '1327981': 0.00657, '745088': 0.00692, '1838062': 0.00688, '1610872': 0.00727, '1567485': 0.00381, '1587907': 0.00663, '1821564': 0.00293, '1838083': 0.00504, '1887655': 0.00381, '1445729': 0.00182, '1701826': 0.0071, '1701830': 0.00896, '1448276': 0.0083, '1124578': 0.0114, '1383055': 0.01367, '1982902': 0.00686, '1983108': 0.00683, '2006145': 0.00677, '1986540': 0.00661, '1698712': 0.00748, '1662284': 0.00779, '1340822': 0.00319, '373408': 0.00845, '1071505': 0.00201, '491003': 0.00698, '1540099': 0.00823, '1982565': 0.00599, '1945575': 0.00245, '1647420': 0.00684, '1982262': 0.00662, '1982266': 0.00661, '494269': 0.00706, '1262537': 0.00186, '1262533': 0.00159, '63118': 0.00197, '665884': 0.00129, '287412': 0.0011, '665883': 0.00102, '83129': 0.001, '1981043': 0.00268, '1920861': 0.00262, '1920862': 0.00213, '1921000': 0.00705, '1273741': 0.01342, '2042207': 0.00721, '1337877': 0.00121, '1921563': 0.00327, '1862961': 0.00571, '1862960': 0.00147, '31537': 0.00135, '1821727': 0.00699, '1983742': 0.00367, '1084722': 0.00697, '1982571': 0.00719, '508419': 0.00703, '1857099': 0.00685, '1921710': 0.0068, '2005060': 0.00671, '861047': 0.00445, '1089115': 0.00717, '1005056': 0.00371, '1982377': 0.0021, '1147157': 0.0087, '1654926': 0.00172, '1863007': 0.0016, '1720500': 0.00123, '1863008': 0.00106, '1863009': 0.001, '10693': 0.001, '1914200': 0.00892, '1914201': 0.0085, '1914204': 0.00214, '2049937': 0.0013, '1914206': 0.00111, '1914205': 0.001, '1914208': 0.00138, '762660': 0.00699, '1079999': 0.00688, '1079998': 0.00692, '1493514': 0.00662, '1655305': 0.00696, '1914155': 0.00707, '1262539': 0.00702, '1913657': 0.00532, '1914192': 0.00169, '929833': 0.0071, '1589733': 0.00708, '1597976': 0.00691, '1335230': 0.00684, '445685': 0.00685, '908819': 0.00627, '1640885': 0.00661, '1416334': 0.00891, '451705': 0.00102, '1837830': 0.00771, '1805951': 0.00621, '1924732': 0.00314, '292029': 0.00979, '1921408': 0.00695, '2006134': 0.007, '1486658': 0.00692, '1925782': 0.00695, '1985179': 0.00694, '1883372': 0.0065, '1541686': 0.00527, '934027': 0.00114, '2006170': 0.00176, '1168563': 0.00704, '431893': 0.00661, '1965383': 0.00661, '1296659': 0.0072, '1984775': 0.00733, '1966265': 0.00228, '1582154': 0.00417, '1562076': 0.00719, '1498170': 0.00754, '1500756': 0.00718, '1873949': 0.00686, '1100790': 0.00691, '1873959': 0.00279, '1654601': 0.00199, '1985727': 0.00239, '1985725': 0.00216, '1985723': 0.00215, '1985724': 0.00183, '1985726': 0.00144, '1985712': 0.00137, '1985713': 0.00106, '1985714': 0.0011, '1985717': 0.00154, '979726': 0.00675, '1051675': 0.00697, '994601': 0.00692, '1664247': 0.00311, '754072': 0.00711, '10756': 0.0071, '1162305': 0.00681, '1921185': 0.00678, '1982596': 0.0068, '981335': 0.00704, '1503929': 0.00697, '1987152': 0.0072, '1987989': 0.00169, '33771': 0.00706, '307240': 0.00719, '1676182': 0.0069, '1676183': 0.00714, '2011082': 0.00683, '127509': 0.00745, '12024': 0.00712, '347': 0.00662, '562': 0.00166, '28901': 0.00136, '670': 0.00127, '1464': 0.00435}}\n",
      "{'taxid_abundance': {'1162290': 0.005, '446529': 0.005, '929814': 0.005, '753085': 0.005, 'unk': 0.48, '1792253': 0.005, '1486426': 0.005, '1150992': 0.005, '1701812': 0.005, '1647466': 0.005, '157924': 0.005, '1805956': 0.005, '1348912': 0.005, '90963': 0.005, '537874': 0.005, '1173762': 0.005, '1871690': 0.005, '1325372': 0.005, '2884419': 0.005, '546805': 0.005, '1109711': 0.005, '698486': 0.005, '2905681': 0.005, '1391188': 0.005, '1147146': 0.005, '1458860': 0.005, '1458716': 0.005, '1399941': 0.005, '470865': 0.005, '1124655': 0.005, '1718278': 0.005, '1357714': 0.005, '1458726': 0.005, '754045': 0.005, '1476887': 0.005, '2880541': 0.005, '1814287': 0.005, '432198': 0.005, '670252': 0.005, '1874539': 0.005, '1500734': 0.005, '538979': 0.005, '1552735': 0.005, '1124849': 0.005, '1204517': 0.005, '1327037': 0.005, '1527514': 0.005, '1821727': 0.005, '12353': 0.005, '1175504': 0.005, '879628': 0.005, '584892': 0.005, '1720504': 0.005, '1079999': 0.005, '1458711': 0.005, '1566995': 0.005, '1857100': 0.005, '345922': 0.005, '1636263': 0.005, '430796': 0.005, '2884424': 0.005, '1308863': 0.005, '1582151': 0.005, '134554': 0.005, '1883374': 0.005, '1340833': 0.005, '981335': 0.005, '1622191': 0.005, '1204538': 0.005, '1211280': 0.005, '1406785': 0.005, '2681621': 0.005, '2902907': 0.005, '1622193': 0.005, '1262522': 0.005, '1815972': 0.005, '1076630': 0.005, '1486424': 0.005, '1225800': 0.005, '2695836': 0.005, '1647408': 0.005, '2886922': 0.005, '1229784': 0.005, '925983': 0.005, '1204516': 0.005, '2492962': 0.005, '984186': 0.005, '754067': 0.005, '1527494': 0.005, '407392': 0.005, '2785247': 0.005, '1567028': 0.005, '2681608': 0.005, '1530085': 0.005, '673835': 0.005, '151538': 0.005, '1815590': 0.005, '1449897': 0.005, '2907835': 0.005, '1852625': 0.005, '1654928': 0.005, '1589298': 0.005, '1105327': 0.005, '1815521': 0.005, '1476390': 0.005}}\n"
     ]
    }
   ],
   "source": [
    "enrichseq_test_dir = \"//scratch/summit/dral3008/benchmarking_enrichseq/results3/EnrichSeq/test_1/num_reads_200genomes/200_genomes_500000_reads/\"\n",
    "bracken_test_dir = \"//scratch/summit/dral3008/benchmarking_enrichseq/results3/Bracken/test_2/num_genomes/200_genomes_500000_reads\"\n",
    "truth_test_dir = \"//scratch/summit/dral3008/benchmarking_enrichseq/tests/test_1/num_reads_200genomes/200_genomes_500000_reads.fa\"\n",
    "\n",
    "enrichseq_values = parser_enrichseq(enrichseq_test_dir)\n",
    "bracken_values = parser_bracken(bracken_test_dir)\n",
    "true_values = parse_simulated_fasta(truth_test_dir)\n",
    "\n",
    "print(enrichseq_values)\n",
    "print(bracken_values)\n",
    "print(true_values)"
   ]
  },
  {
   "cell_type": "markdown",
   "metadata": {},
   "source": [
    "# Results Methods and structures\n",
    "The methods and data structures here are used for creating a common data structure for the output of all tools being compared with one another. "
   ]
  },
  {
   "cell_type": "code",
   "execution_count": 6,
   "metadata": {},
   "outputs": [],
   "source": [
    "class ResultStruct:\n",
    "    \"\"\" EnrichSeq - datastruct for holding results \"\"\"\n",
    "    \n",
    "    def __init__(self):\n",
    "        self.l2_abundance_distance = []\n",
    "        self.classification_recall = 0\n",
    "        self.classification_precision = 0"
   ]
  },
  {
   "cell_type": "code",
   "execution_count": 7,
   "metadata": {},
   "outputs": [],
   "source": [
    "\n",
    "\"\"\"\n",
    "Name of each key in PARSERS_MAP \n",
    "must correspond to directory name.\n",
    "\"\"\"\n",
    "PARSERS_MAP = {\"EnrichSeq\" : parser_enrichseq,\n",
    "               \"FastViromeExplorer\" : parser_fastviromeexplorer,\n",
    "               \"Bracken\": parser_bracken,\n",
    "               \"truth\" : parse_simulated_fasta}\n",
    "\n",
    "def parse_dir(results_directory, test_directory, parsers=PARSERS_MAP):\n",
    "    \"\"\"                          \n",
    "    Description\n",
    "    -----------\n",
    "        This function parses all of the result directories including\n",
    "        the test directory and returns a data structure containing the results.\n",
    "        \n",
    "    Input\n",
    "    -----------\n",
    "        1. Path to a singular simulated fasta file\n",
    "        \n",
    "    Output\n",
    "    -----------\n",
    "        Abundance Dictionary containing:\n",
    "            1. taxid abundances\n",
    "            abundances_dict = {'tax_id_1' : 33,\n",
    "                               'tax_id_2' : 33,\n",
    "                               ...,\n",
    "                               'tax_id_N' : 33,\n",
    "                              }\n",
    "    \"\"\"\n",
    "    results = {}\n",
    "    # parse truth\n",
    "    results = parse_true_directory(test_directory, results, parsers)\n",
    "    # parse results\n",
    "    results = parse_tools(results_directory, results, parsers)\n",
    "    # create results from parsed information\n",
    "    results = parsed_dict_to_results(results)\n",
    "    \n",
    "    return results\n",
    "    \n",
    "def parse_true_directory(test_directory, results: Dict, parsers):\n",
    "    \"\"\"                          \n",
    "    Description\n",
    "    -----------\n",
    "        This function parses the truth directory, adding the parsed \n",
    "        abundance results to input results dictionary.\n",
    "        \n",
    "                    TEST\n",
    "                      |\n",
    "                    /   \\\n",
    "                TEST_1    TEST_2\n",
    "               /   |        |    \\\n",
    "       test-1.a test-1.b test-2.a test-2.b\n",
    "       \n",
    "                    into \n",
    "                       \n",
    "                   Results (a dictionary)\n",
    "                      |\n",
    "                    /   \\\n",
    "             \"TEST_1\"    \"TEST_2\"\n",
    "               /   |        |    \\\n",
    "    trueAb-1.a trueAb-1.b trueAb-2.a trueAb-2.b\n",
    "         \n",
    "    Input\n",
    "    -----------\n",
    "        1. Path to a the entire truth test directory\n",
    "        2. results dictionary\n",
    "        3. parsers\n",
    "        \n",
    "    Output\n",
    "    -----------\n",
    "        results dictionary with the true abundance values added:\n",
    "        \n",
    "        example:\n",
    "        'num_genomes_test': {\n",
    "                             '5_genomes_sim_illumina': {'true': \n",
    "                                  {'taxid_abundance': {'2886930': 0.2, \n",
    "                                                       '10868': 0.2, \n",
    "                                                       '2681618': 0.2, \n",
    "                                                       '10658': 0.2, \n",
    "                                                       '127507': 0.2}\n",
    "                                  }\n",
    "                             },\n",
    "    \"\"\"\n",
    "    # parse truth\n",
    "    for test_directory_name in os.listdir(test_directory):\n",
    "        test_num_path = Path(test_directory) / Path(test_directory_name)\n",
    "        for subtest_directory in os.listdir(test_num_path):\n",
    "            test_full_path = Path(test_num_path) / Path(subtest_directory)\n",
    "            if os.path.isdir(test_full_path): # if directory\n",
    "                # create sub dictionary if not exists\n",
    "                if test_directory_name not in results: results[test_directory_name] = {}\n",
    "                if subtest_directory not in results[test_directory_name]: results[test_directory_name][subtest_directory] = {}\n",
    "\n",
    "                # loop through all fasta files and parse for true abundance\n",
    "                for file_test in os.listdir(test_full_path):\n",
    "                    file_full_path = Path(test_full_path) / Path(file_test)\n",
    "                    if os.path.isfile(file_full_path) and (file_full_path.suffix == \".fa\"): # if file and fasta\n",
    "                        # create subsub dictionary if not exists\n",
    "                        if file_test not in results[test_directory_name][subtest_directory]:\n",
    "                            file_test = file_test.replace(\".fa\", \"\")\n",
    "                            results[test_directory_name][subtest_directory][file_test] = {}\n",
    "\n",
    "                        # add abundances to results\n",
    "                        abundances = parsers[\"truth\"](file_full_path)\n",
    "                        # print(f'Truth: {abundances}') # PRINTS CORRECTLY\n",
    "                        results[test_directory_name][subtest_directory][file_test][\"true\"] = abundances\n",
    "                        # print(results[test_directory_name][subtest_directory][file_test][\"true\"]) # THIS WORKS\n",
    "    return results\n",
    "                 \n",
    "    \n",
    "def parse_tools(results_directory, results: Dict, parsers):\n",
    "    \"\"\"                          \n",
    "    Description\n",
    "    -----------\n",
    "        This function parses the results directory, adding the \n",
    "        parsed abundances results to input results dictionary.  \n",
    "         \n",
    "    Input\n",
    "    -----------\n",
    "        1. Path to a the entire benchmarking results directory\n",
    "        2. results dictionary\n",
    "        3. parsers\n",
    "        \n",
    "    Output\n",
    "    -----------\n",
    "        results dictionary with the tool prediction abundances \n",
    "        values added.\n",
    "        \n",
    "        example:\n",
    "        'num_genomes_test': {\n",
    "                             '5_genomes_sim_illumina': {tool_X': \n",
    "                                  {'taxid_abundance': {'2886930': 0.2, \n",
    "                                                       '10868': 0.2, \n",
    "                                                       '2681618': 0.2, \n",
    "                                                       '10658': 0.2, \n",
    "                                                       '127507': 0.2}\n",
    "                                  }\n",
    "                             },\n",
    "    \"\"\"\n",
    "    for tool_name in os.listdir(results_directory):\n",
    "        print(tool_name)\n",
    "        results_path = Path(results_directory) / Path(tool_name)\n",
    "        for test_directory_name in os.listdir(results_path): # e.g. [test_1, test_2, test_3]\n",
    "            test_num_path = Path(results_path) / Path(test_directory_name)\n",
    "            for subtest_directory in os.listdir(test_num_path): # e.g. [num_genomes, num_reads]\n",
    "                test_type_path = Path(test_num_path) / Path(subtest_directory)\n",
    "                for final_test_directory in os.listdir(test_type_path): # e.g. [200_genomes_500k_reads]\n",
    "                    test_full_path = Path(test_type_path) / Path(final_test_directory)\n",
    "                    if os.path.isdir(test_full_path): # if directory\n",
    "                        # loop through all fasta files and parse for true abundance           \n",
    "                        try:\n",
    "                            #file_full_path must be tool/test_1/num_genome/subtest_dir\n",
    "                            abundances = parsers[tool_name](test_full_path) \n",
    "                            # add abundances to results\n",
    "                            results[test_directory_name][subtest_directory][final_test_directory.strip(\".\")][tool_name] = abundances\n",
    "                            #print(results[test_directory_name][subtest_directory][final_test_directory.strip(\".\")].keys())\n",
    "                        except:\n",
    "                            print(f\"{tool_name} is missing {final_test_directory} from {subtest_directory}, {test_directory_name}\")\n",
    "                            print(f\"OR {tool_name} has a file that true doesn't have. Should be fine.\")\n",
    "                            continue\n",
    "    return results\n",
    "\n",
    "# TODO: FIX THIS\n",
    "def parsed_dict_to_results(results):\n",
    "    \"\"\"                          \n",
    "    Description\n",
    "    -----------\n",
    "        This function parses the parsed results dictionary,\n",
    "        and creates a dictionary with all of the correct results.\n",
    "        Overall this utilizes the results structure.\n",
    "         \n",
    "    Input\n",
    "    -----------\n",
    "        1. Path to a results dictionary containing truth and \n",
    "           tool predictions\n",
    "        \n",
    "    Output\n",
    "    -----------\n",
    "        1. results dictionary with the tool results.\n",
    "    \"\"\"\n",
    "    \n",
    "    for test_num in results.keys(): # is test_1, test_2\n",
    "        for test_name in results[test_num].keys(): # is num_genomes, num_reads\n",
    "            for sub_test in results[test_num][test_name].keys():\n",
    "                for tool_name, result_val in results[test_num][test_name][sub_test].items():\n",
    "                    if tool_name != \"true\":\n",
    "                        results_out = get_results(results[test_num][test_name][sub_test][tool_name], \n",
    "                                              results[test_num][test_name][sub_test][\"true\"])\n",
    "                        results[test_num][test_name][sub_test][tool_name] = results_out\n",
    "                del results[test_num][test_name][sub_test][\"true\"]\n",
    "    return results\n",
    "\n",
    "def get_results(predicted_results, true_results):\n",
    "    \"\"\"                          \n",
    "    Description\n",
    "    -----------\n",
    "        Given the true results and tool results, this\n",
    "        function returns a Result Struct for a given tool.\n",
    "        \n",
    "    **NOTE**: This is where all of the metrics are calculated\n",
    "              so this is the most important function for the \n",
    "              benchmarking - contains the logic.\n",
    "         \n",
    "    Input\n",
    "    -----------\n",
    "        1. dictionary of predicted results\n",
    "        2. dictionary of true results\n",
    "        \n",
    "    Output\n",
    "    -----------\n",
    "        1. ResultStruct() with the tool results.\n",
    "    \"\"\"\n",
    "    # init\n",
    "    results_structure = ResultStruct()\n",
    "    predicted_abundances = predicted_results['taxid_abundance']\n",
    "    true_abundances = true_results['taxid_abundance']\n",
    "    \n",
    "    # error handling\n",
    "    if (len(true_abundances) == 0): \n",
    "        print(f\"TRUTH EMPTY\")\n",
    "        return results_structure\n",
    "    \n",
    "    # classification results\n",
    "    ## true positives\n",
    "    true_positives = []\n",
    "    for pred_taxid in predicted_abundances.keys():\n",
    "        if pred_taxid in true_abundances.keys():\n",
    "            true_positives.append(pred_taxid)\n",
    "    ## false positives\n",
    "    false_positives = []\n",
    "    for pred_taxid in predicted_abundances.keys():\n",
    "        if (pred_taxid not in true_abundances.keys()) and (pred_taxid != \"UNK\"):\n",
    "            false_positives.append(pred_taxid)\n",
    "    ## false negatives\n",
    "    false_negatives = []\n",
    "    for pred_taxid in true_abundances.keys():\n",
    "        if pred_taxid not in predicted_abundances.keys():\n",
    "            false_negatives.append(pred_taxid)\n",
    "            \n",
    "    ## get metrics\n",
    "#     print(f\"predicted_abundances = {predicted_abundances}, true abundaces = {true_abundances}\")\n",
    "    recall = len(true_positives) / (len(true_positives) + len(false_negatives))\n",
    "    precision = len(true_positives) / (len(true_positives) + len(false_positives))\n",
    "    #print(f\"recall : {recall} | precision : {precision}\")\n",
    "    \n",
    "    # abundance results\n",
    "    ## L2 distances\n",
    "    l2_dist_array = []\n",
    "    total_abundance_wo_unk = sum([abundance for key, abundance in predicted_abundances.items() if key != \"UNK\" ])\n",
    "    for tax_id, pred_abundance in predicted_abundances.items():\n",
    "        if tax_id in true_abundances:\n",
    "            pred_abundance /= total_abundance_wo_unk\n",
    "            l2_diff = abs(pred_abundance - true_abundances[tax_id])\n",
    "        else:\n",
    "            l2_diff = 0\n",
    "        l2_dist_array.append(l2_diff)\n",
    "    \n",
    "    # store into results structure\n",
    "    results_structure.l2_abundance_distance = l2_dist_array\n",
    "    results_structure.classification_recall = recall\n",
    "    results_structure.classification_precision = precision\n",
    "    #print(results_structure.classification_precision)\n",
    "    \n",
    "    return results_structure"
   ]
  },
  {
   "cell_type": "code",
   "execution_count": 8,
   "metadata": {},
   "outputs": [
    {
     "name": "stdout",
     "output_type": "stream",
     "text": [
      "1000000 lines parsed\n",
      "1000000 lines parsed\n",
      "1000000 lines parsed\n",
      "1000000 lines parsed\n",
      "1000000 lines parsed\n",
      "1000000 lines parsed\n",
      "1000000 lines parsed\n",
      "1000000 lines parsed\n",
      "FastViromeExplorer\n",
      "FastViromeExplorer is missing 800_genomes_500000_reads from num_genomes, test_2\n",
      "OR FastViromeExplorer has a file that true doesn't have. Should be fine.\n",
      "EnrichSeq\n",
      "Bracken\n"
     ]
    }
   ],
   "source": [
    "# create 'results'\n",
    "results = parse_dir(\"//scratch/summit/dral3008/benchmarking_enrichseq/results3/\",\n",
    "                    \"//scratch/summit/dral3008/benchmarking_enrichseq/tests/\")"
   ]
  },
  {
   "cell_type": "code",
   "execution_count": 18,
   "metadata": {},
   "outputs": [
    {
     "name": "stdout",
     "output_type": "stream",
     "text": [
      "0.38509316770186336\n"
     ]
    }
   ],
   "source": [
    "\n",
    "print(results['test_1']['num_genomes']['200_genomes_500000_reads']['Bracken'].classification_precision)\n",
    "\n"
   ]
  },
  {
   "cell_type": "markdown",
   "metadata": {},
   "source": [
    "# Plotting Methods\n",
    "These methods use the common `ResultStruct` datastructure (or arry thereof) for plotting individual tool metrics. "
   ]
  },
  {
   "cell_type": "code",
   "execution_count": 11,
   "metadata": {},
   "outputs": [],
   "source": [
    "def plot_barplot(input_results, test, metric='classification'):                                                        \n",
    "    \"\"\"                                                                         \n",
    "    This function plots a bar plot output for a given test set and value\n",
    "    \"\"\" \n",
    "    \n",
    "    width = 0.35\n",
    "    fig = plt.figure()\n",
    "    ax = fig.add_axes([0,0,1,1])\n",
    "    if (metric == 'classification'):\n",
    "        sub_results = input_results[test]\n",
    "        x_tick_names = [[], [], []]\n",
    "        x_tick_arr = []\n",
    "        index_map = {'EnrichSeq' : 0, 'FastViromeExplorer' : 1, 'Bracken' : 2}\n",
    "        for subtest_name in sub_results.keys():\n",
    "            x_tick_arr.append(\" \".join(subtest_name.split(\"_\")))\n",
    "            for tool, results_struct in sub_results[subtest_name].items():\n",
    "#                 print(f\"{tool} Recall: {results_struct.classification_recall}\")\n",
    "#                 print(f\"{tool} Precision: {results_struct.classification_precision}\")\n",
    "                f1_score = 2 * (results_struct.classification_recall * results_struct.classification_precision) \n",
    "                if ((results_struct.classification_recall != 0) or\n",
    "                    (results_struct.classification_precision != 0)):\n",
    "                    f1_score /= (results_struct.classification_recall + results_struct.classification_precision) \n",
    "                x_tick_names[index_map[tool]].append(f1_score)\n",
    "#                 print(f\"\\n {subtest_name}\")\n",
    "#                 print(f\"{tool} F1 Score: {results_struct.classification_precision}\")\n",
    "                \n",
    "        # make plot\n",
    "        ind = np.arange(len(x_tick_names[0]))\n",
    "        ax.bar(ind, x_tick_names[index_map['EnrichSeq']], color='m', width = 0.30)\n",
    "        \n",
    "        if (len(x_tick_names[0]) == len(x_tick_names[1])):\n",
    "            ax.bar(ind + 0.30, x_tick_names[index_map['FastViromeExplorer']], width = 0.30, color='b')\n",
    "        \n",
    "        if (len(x_tick_names[0]) == len(x_tick_names[2])):\n",
    "            ax.bar(ind + 0.30, x_tick_names[index_map['Bracken']], width = 0.30, color='y')\n",
    "\n",
    "        ax.legend(labels=['EnrichSeq', 'FastViromeExplorer', 'Bracken'])\n",
    "        ax.set_xticks(ind + 0.25)\n",
    "        ax.set_xticklabels(x_tick_arr, rotation=90)\n",
    "        ax.set_title(f\"Testing the impact of {test} \\n {metric}-focused\", size=15)\n",
    "        ax.set_ylabel(\"F1 score\", size=15)\n",
    "        ax.set_xlabel(\"Sub test\", size=15)\n",
    "        \n",
    "        \n",
    "    elif (metric == 'abundance'):\n",
    "        sub_results = input_results[test]\n",
    "        x_tick_names = [[], [], []]\n",
    "        x_tick_arr = []\n",
    "        index_map = {'EnrichSeq' : 0, 'FastViromeExplorer' : 1, 'Bracken': 2}\n",
    "        for subtest_name in sub_results.keys():\n",
    "            x_tick_arr.append(\" \".join(subtest_name.split(\"_\")))\n",
    "            for tool, results_struct in sub_results[subtest_name].items():\n",
    "                l2_avg = np.average(results_struct.l2_abundance_distance)\n",
    "                x_tick_names[index_map[tool]].append(l2_avg)\n",
    "                \n",
    "        # make plot\n",
    "        ind = np.arange(len(x_tick_names[0]))\n",
    "        ax.bar(ind, x_tick_names[index_map['EnrichSeq']], color='m', width = 0.30)\n",
    "        if (len(x_tick_names[0]) == len(x_tick_names[1])):\n",
    "            ax.bar(ind + 0.30, x_tick_names[index_map['FastViromeExplorer']], width = 0.30, color='b')\n",
    "        \n",
    "        if (len(x_tick_names[0]) == len(x_tick_names[2])):\n",
    "            ax.bar(ind + 0.30, x_tick_names[index_map['Bracken']], width = 0.30, color='y')\n",
    "        ax.legend(labels=['EnrichSeq', 'FastViromeExplorer', 'Bracken'])\n",
    "        ax.set_xticks(ind + 0.25)\n",
    "        ax.set_xticklabels(x_tick_arr, rotation=90)\n",
    "        ax.set_title(f\"Testing the impact of {test} \\n {metric}-focused\", size=15)\n",
    "        ax.set_ylabel(\"L2 distance\", size=15)\n",
    "        ax.set_xlabel(\"Sub test\", size=15)\n",
    "    else:\n",
    "        print(f\"Metric of type {metric} is not known\")\n",
    "    plt.show()"
   ]
  },
  {
   "cell_type": "code",
   "execution_count": 11,
   "metadata": {},
   "outputs": [],
   "source": [
    "def print_results(input_results):                                                        \n",
    "    \"\"\"                                                                         \n",
    "    This function prints the results in a hierarchical structure\n",
    "    \"\"\" \n",
    "    for test in input_results.keys():\n",
    "        print(f\"\\n {test}\")\n",
    "        sub_results = input_results[test]\n",
    "        for subtest_name in sub_results.keys():\n",
    "            print(f\"\\t {subtest_name}\")\n",
    "            for tool, results_struct in sub_results[subtest_name].items():\n",
    "                print(f\"\\t\\t {tool}\")\n",
    "                print(f\"\\t\\t\\t L2-avg: {np.average(results_struct.l2_abundance_distance)}\")\n",
    "                print(f\"\\t\\t\\t recall: {results_struct.classification_recall}\")\n",
    "                print(f\"\\t\\t\\t precision: {results_struct.classification_precision}\")"
   ]
  },
  {
   "cell_type": "markdown",
   "metadata": {},
   "source": [
    "# Benchmarking\n",
    "This section splits the various benchmarking sections into a clear, concise set of scripts."
   ]
  },
  {
   "cell_type": "markdown",
   "metadata": {},
   "source": [
    "### Number of genomes comparison"
   ]
  },
  {
   "cell_type": "code",
   "execution_count": 15,
   "metadata": {},
   "outputs": [
    {
     "data": {
      "image/png": "[encoded data removed]",
      "text/plain": [
       "<Figure size 432x288 with 1 Axes>"
      ]
     },
     "metadata": {
      "needs_background": "light"
     },
     "output_type": "display_data"
    },
    {
     "data": {
      "image/png": "[encoded data removed]",
      "text/plain": [
       "<Figure size 432x288 with 1 Axes>"
      ]
     },
     "metadata": {
      "needs_background": "light"
     },
     "output_type": "display_data"
    },
    {
     "data": {
      "text/plain": [
       "{'5_genomes_sim_illumina': {'enrichseq': <__main__.ResultStruct at 0x2b8d137f9908>,\n",
       "  'Bracken': <__main__.ResultStruct at 0x2b8d137e5160>},\n",
       " '1_genomes_sim_illumina': {'enrichseq': <__main__.ResultStruct at 0x2b8d13826208>,\n",
       "  'Bracken': <__main__.ResultStruct at 0x2b8d138137f0>},\n",
       " '3_genomes_sim_illumina': {'enrichseq': <__main__.ResultStruct at 0x2b8d137f99e8>,\n",
       "  'Bracken': <__main__.ResultStruct at 0x2b8d137f99b0>},\n",
       " '10_genomes_sim_illumina': {'enrichseq': <__main__.ResultStruct at 0x2b8d137f9978>,\n",
       "  'Bracken': <__main__.ResultStruct at 0x2b8d137e5128>},\n",
       " '500_genomes_sim_illumina': {'Bracken': <__main__.ResultStruct at 0x2b8d13821400>},\n",
       " '1000_genomes_sim_illumina': {'enrichseq': <__main__.ResultStruct at 0x2b8d13821978>,\n",
       "  'Bracken': <__main__.ResultStruct at 0x2b8d13813fd0>},\n",
       " '100_genomes_sim_illumina': {'enrichseq': <__main__.ResultStruct at 0x2b8d13813f98>,\n",
       "  'Bracken': <__main__.ResultStruct at 0x2b8d137e5f98>}}"
      ]
     },
     "execution_count": 15,
     "metadata": {},
     "output_type": "execute_result"
    }
   ],
   "source": [
    "plot_barplot(results, test='num_genomes_test', metric='classification')\n",
    "plot_barplot(results, test='num_genomes_test', metric='abundance')\n",
    "\n",
    "results['num_genomes_test']"
   ]
  },
  {
   "cell_type": "markdown",
   "metadata": {},
   "source": [
    "### Number of read mutations"
   ]
  },
  {
   "cell_type": "code",
   "execution_count": 16,
   "metadata": {},
   "outputs": [
    {
     "data": {
      "image/png": "[encoded data removed]",
      "text/plain": [
       "<Figure size 432x288 with 1 Axes>"
      ]
     },
     "metadata": {
      "needs_background": "light"
     },
     "output_type": "display_data"
    },
    {
     "data": {
      "image/png": "[encoded data removed]",
      "text/plain": [
       "<Figure size 432x288 with 1 Axes>"
      ]
     },
     "metadata": {
      "needs_background": "light"
     },
     "output_type": "display_data"
    },
    {
     "data": {
      "text/plain": [
       "{'3_genomes_sim_00del_05ins_illumina': {'FastViromeExplorer': <__main__.ResultStruct at 0x2b8d137e5fd0>,\n",
       "  'enrichseq': <__main__.ResultStruct at 0x2b8d137e5f60>,\n",
       "  'Bracken': <__main__.ResultStruct at 0x2b8d137e5f28>},\n",
       " '3_genomes_sim_05del_05ins_illumina': {'FastViromeExplorer': <__main__.ResultStruct at 0x2b8d137e5ef0>,\n",
       "  'enrichseq': <__main__.ResultStruct at 0x2b8d137e5eb8>,\n",
       "  'Bracken': <__main__.ResultStruct at 0x2b8d137e5e80>},\n",
       " '3_genomes_sim_05del_0ins_illumina': {'FastViromeExplorer': <__main__.ResultStruct at 0x2b8d137e5e48>,\n",
       "  'enrichseq': <__main__.ResultStruct at 0x2b8d137e5dd8>,\n",
       "  'Bracken': <__main__.ResultStruct at 0x2b8d137e5e10>},\n",
       " '3_genomes_sim_10del_10ins_illumina': {'FastViromeExplorer': <__main__.ResultStruct at 0x2b8d137e5da0>,\n",
       "  'enrichseq': <__main__.ResultStruct at 0x2b8d137e5d30>,\n",
       "  'Bracken': <__main__.ResultStruct at 0x2b8d137e5d68>}}"
      ]
     },
     "execution_count": 16,
     "metadata": {},
     "output_type": "execute_result"
    }
   ],
   "source": [
    "plot_barplot(results, test='num_mutations_test', metric='classification')\n",
    "plot_barplot(results, test='num_mutations_test', metric='abundance')\n",
    "\n",
    "results['num_mutations_test']"
   ]
  },
  {
   "cell_type": "markdown",
   "metadata": {},
   "source": [
    "### Number of reads"
   ]
  },
  {
   "cell_type": "code",
   "execution_count": 17,
   "metadata": {},
   "outputs": [
    {
     "data": {
      "image/png": "[encoded data removed]",
      "text/plain": [
       "<Figure size 432x288 with 1 Axes>"
      ]
     },
     "metadata": {
      "needs_background": "light"
     },
     "output_type": "display_data"
    },
    {
     "data": {
      "image/png": "[encoded data removed]",
      "text/plain": [
       "<Figure size 432x288 with 1 Axes>"
      ]
     },
     "metadata": {
      "needs_background": "light"
     },
     "output_type": "display_data"
    }
   ],
   "source": [
    "plot_barplot(results, test='num_reads_test', metric='classification')\n",
    "plot_barplot(results, test='num_reads_test', metric='abundance')\n"
   ]
  },
  {
   "cell_type": "markdown",
   "metadata": {},
   "source": [
    "# Plotting using Seaborn"
   ]
  },
  {
   "cell_type": "code",
   "execution_count": 11,
   "metadata": {},
   "outputs": [],
   "source": [
    "import seaborn as sns\n",
    "import pandas as pd\n",
    "\n",
    "\n",
    "### TESTING ###\n",
    "# long_df = pd.DataFrame({'Number of Genomes': ['10','10','10','200','200','200','400','400','400'],\n",
    "#                        'Tool': ['EnrichSeq', 'FastViromeExplorer','Bracken', \n",
    "#                                'EnrichSeq', 'FastViromeExplorer','Bracken',\n",
    "#                                'EnrichSeq', 'FastViromeExplorer','Bracken'],\n",
    "#                        'F1 Score': [1.0, 1.0, 0.7, 0.95, 0.91, 0.6, 0.9, 0.75, 0.5]})\n",
    "\n",
    "# sns.catplot(x=\"Number of Genomes\", y=\"F1 Score\", hue=\"Tool\", kind=\"bar\", data=long_df)\n",
    "\n",
    "#################\n",
    "\n",
    "def plot_bar_classification(input_results, test='num_genomes'):\n",
    "    \"\"\"\n",
    "    Input\n",
    "    --------\n",
    "    results dictionary in the form \n",
    "        results['test_1']['num_genomes']['200_genomes_500000_reads']['Bracken'] = ResultStruct object\n",
    "    \n",
    "    Output\n",
    "    --------\n",
    "    None, displays a plot\n",
    "    \"\"\"\n",
    "    plotting_dict = {'Number of Genomes': [], 'Tool': [], 'F1 Score': []}\n",
    "    for xval in input_results['test_1'][test].keys():\n",
    "        for tool,result_struct in input_results['test_1'][test][xval].items():\n",
    "            # xval should be added 3 times, once for every tool\n",
    "            plotting_dict['Number of Genomes'].append(xval) # TODO: Extract just the number?\n",
    "            plotting_dict['Tool'].append(tool)\n",
    "            f1_score = 2 * (result_struct.classification_recall * result_struct.classification_precision) \n",
    "            if ((result_struct.classification_recall != 0) or\n",
    "                    (result_struct.classification_precision != 0)):\n",
    "                    f1_score /= (result_struct.classification_recall + result_struct.classification_precision)\n",
    "            plotting_dict['F1 Score'].append(f1_score)\n",
    "            print(f'# Genomes: {xval}, Tool: {tool}')\n",
    "            print(f'precision = {result_struct.classification_precision}, recall = {result_struct.classification_recall}')\n",
    "\n",
    "    test_df = pd.DataFrame.from_dict(plotting_dict)\n",
    "    plot = sns.catplot(x=\"Number of Genomes\", y=\"F1 Score\", hue=\"Tool\", kind=\"bar\", data=test_df)\n",
    "    for axes in plot.axes.flat:\n",
    "        _ = axes.set_xticklabels(axes.get_xticklabels(), rotation=90)\n",
    "    \n",
    "\n",
    "def plot_bar_abundance(input_results, test='num_genomes'):\n",
    "    \"\"\"\n",
    "    Input\n",
    "    --------\n",
    "    results dictionary in the form \n",
    "        results['test_1']['num_genomes']['200_genomes_500000_reads']['Bracken'] = ResultStruct object\n",
    "    \n",
    "    Output\n",
    "    --------\n",
    "    None, displays a plot\n",
    "    \"\"\"\n",
    "    plotting_dict = {'Number of Genomes': [], 'Tool': [], 'F1 Score': []}\n",
    "    for xval in input_results['test_3'][test].keys():\n",
    "        for tool,result_struct in input_results['test_3'][test][xval].items():\n",
    "            # xval should be added 3 times, once for every tool\n",
    "            plotting_dict['Number of Genomes'].append(xval) # TODO: Extract just the number?\n",
    "            plotting_dict['Tool'].append(tool)\n",
    "            f1_score = 2 * (result_struct.classification_recall * result_struct.classification_precision) \n",
    "            if ((result_struct.classification_recall != 0) or\n",
    "                    (result_struct.classification_precision != 0)):\n",
    "                    f1_score /= (result_struct.classification_recall + result_struct.classification_precision)\n",
    "            plotting_dict['F1 Score'].append(f1_score)\n",
    "\n",
    "    test_df = pd.DataFrame.from_dict(plotting_dict)\n",
    "    plot = sns.catplot(x=\"Number of Genomes\", y=\"F1 Score\", hue=\"Tool\", kind=\"bar\", data=test_df)\n",
    "    for axes in plot.axes.flat:\n",
    "        _ = axes.set_xticklabels(axes.get_xticklabels(), rotation=90)"
   ]
  },
  {
   "cell_type": "code",
   "execution_count": 12,
   "metadata": {},
   "outputs": [
    {
     "name": "stdout",
     "output_type": "stream",
     "text": [
      "# Genomes: 800_genomes_500000_reads, Tool: FastViromeExplorer\n",
      "precision = 0.8333333333333334, recall = 0.9946236559139785\n",
      "# Genomes: 800_genomes_500000_reads, Tool: EnrichSeq\n",
      "precision = 0.41517857142857145, recall = 0.75\n",
      "# Genomes: 800_genomes_500000_reads, Tool: Bracken\n",
      "precision = 0.5333333333333333, recall = 0.6021505376344086\n",
      "# Genomes: 200_genomes_500000_reads, Tool: FastViromeExplorer\n",
      "precision = 0.6227544910179641, recall = 0.9904761904761905\n",
      "# Genomes: 200_genomes_500000_reads, Tool: EnrichSeq\n",
      "precision = 0.38524590163934425, recall = 0.8952380952380953\n",
      "# Genomes: 200_genomes_500000_reads, Tool: Bracken\n",
      "precision = 0.38509316770186336, recall = 0.5904761904761905\n",
      "# Genomes: 400_genomes_500000_reads, Tool: FastViromeExplorer\n",
      "precision = 0.6765799256505576, recall = 0.994535519125683\n",
      "# Genomes: 400_genomes_500000_reads, Tool: EnrichSeq\n",
      "precision = 0.37371134020618557, recall = 0.7923497267759563\n",
      "# Genomes: 400_genomes_500000_reads, Tool: Bracken\n",
      "precision = 0.40304182509505704, recall = 0.5792349726775956\n",
      "# Genomes: 1000_genomes_500000_reads, Tool: FastViromeExplorer\n",
      "precision = 0.8177777777777778, recall = 0.989247311827957\n",
      "# Genomes: 1000_genomes_500000_reads, Tool: EnrichSeq\n",
      "precision = 0.43829787234042555, recall = 0.553763440860215\n",
      "# Genomes: 1000_genomes_500000_reads, Tool: Bracken\n",
      "precision = 0.5186915887850467, recall = 0.5967741935483871\n",
      "# Genomes: 600_genomes_500000_reads, Tool: FastViromeExplorer\n",
      "precision = 0.7345844504021448, recall = 0.9927536231884058\n",
      "# Genomes: 600_genomes_500000_reads, Tool: EnrichSeq\n",
      "precision = 0.40997830802603036, recall = 0.6847826086956522\n",
      "# Genomes: 600_genomes_500000_reads, Tool: Bracken\n",
      "precision = 0.47075208913649025, recall = 0.6123188405797102\n",
      "# Genomes: 10_genomes_500000_reads, Tool: FastViromeExplorer\n",
      "precision = 0.0851063829787234, recall = 0.8\n",
      "# Genomes: 10_genomes_500000_reads, Tool: EnrichSeq\n",
      "precision = 0.4444444444444444, recall = 0.8\n",
      "# Genomes: 10_genomes_500000_reads, Tool: Bracken\n",
      "precision = 0.041666666666666664, recall = 0.4\n"
     ]
    },
    {
     "data": {
      "image/png": "[encoded data removed]",
      "text/plain": [
       "<Figure size 494.25x360 with 1 Axes>"
      ]
     },
     "metadata": {
      "needs_background": "light"
     },
     "output_type": "display_data"
    }
   ],
   "source": [
    "plot_bar_classification(results)\n",
    "#plot_bar_abundance(results)"
   ]
  },
  {
   "cell_type": "markdown",
   "metadata": {},
   "source": [
    "# Plotting using Altair\n",
    "1. Set up dummy data to test long-form format compatible with altair\n",
    "2. Create function for bar plot"
   ]
  },
  {
   "cell_type": "code",
   "execution_count": 10,
   "metadata": {},
   "outputs": [
    {
     "data": {
      "text/html": [
       "\n",
       "<div id=\"altair-viz-4404fc88b79f4230b8dc43e312d98aba\"></div>\n",
       "<script type=\"text/javascript\">\n",
       "  var VEGA_DEBUG = (typeof VEGA_DEBUG == \"undefined\") ? {} : VEGA_DEBUG;\n",
       "  (function(spec, embedOpt){\n",
       "    let outputDiv = document.currentScript.previousElementSibling;\n",
       "    if (outputDiv.id !== \"altair-viz-4404fc88b79f4230b8dc43e312d98aba\") {\n",
       "      outputDiv = document.getElementById(\"altair-viz-4404fc88b79f4230b8dc43e312d98aba\");\n",
       "    }\n",
       "    const paths = {\n",
       "      \"vega\": \"https://cdn.jsdelivr.net/npm//vega@5?noext\",\n",
       "      \"vega-lib\": \"https://cdn.jsdelivr.net/npm//vega-lib?noext\",\n",
       "      \"vega-lite\": \"https://cdn.jsdelivr.net/npm//vega-lite@4.17.0?noext\",\n",
       "      \"vega-embed\": \"https://cdn.jsdelivr.net/npm//vega-embed@6?noext\",\n",
       "    };\n",
       "\n",
       "    function maybeLoadScript(lib, version) {\n",
       "      var key = `${lib.replace(\"-\", \"\")}_version`;\n",
       "      return (VEGA_DEBUG[key] == version) ?\n",
       "        Promise.resolve(paths[lib]) :\n",
       "        new Promise(function(resolve, reject) {\n",
       "          var s = document.createElement('script');\n",
       "          document.getElementsByTagName(\"head\")[0].appendChild(s);\n",
       "          s.async = true;\n",
       "          s.onload = () => {\n",
       "            VEGA_DEBUG[key] = version;\n",
       "            return resolve(paths[lib]);\n",
       "          };\n",
       "          s.onerror = () => reject(`Error loading script: ${paths[lib]}`);\n",
       "          s.src = paths[lib];\n",
       "        });\n",
       "    }\n",
       "\n",
       "    function showError(err) {\n",
       "      outputDiv.innerHTML = `<div class=\"error\" style=\"color:red;\">${err}</div>`;\n",
       "      throw err;\n",
       "    }\n",
       "\n",
       "    function displayChart(vegaEmbed) {\n",
       "      vegaEmbed(outputDiv, spec, embedOpt)\n",
       "        .catch(err => showError(`Javascript Error: ${err.message}<br>This usually means there's a typo in your chart specification. See the javascript console for the full traceback.`));\n",
       "    }\n",
       "\n",
       "    if(typeof define === \"function\" && define.amd) {\n",
       "      requirejs.config({paths});\n",
       "      require([\"vega-embed\"], displayChart, err => showError(`Error loading script: ${err.message}`));\n",
       "    } else {\n",
       "      maybeLoadScript(\"vega\", \"5\")\n",
       "        .then(() => maybeLoadScript(\"vega-lite\", \"4.17.0\"))\n",
       "        .then(() => maybeLoadScript(\"vega-embed\", \"6\"))\n",
       "        .catch(showError)\n",
       "        .then(() => displayChart(vegaEmbed));\n",
       "    }\n",
       "  })({\"config\": {\"view\": {\"continuousWidth\": 400, \"continuousHeight\": 300}}, \"data\": {\"name\": \"data-448f354b7b2d58330055cf7d086a2517\"}, \"mark\": {\"type\": \"circle\", \"size\": 40}, \"encoding\": {\"color\": {\"field\": \"key\", \"type\": \"nominal\"}, \"x\": {\"axis\": {\"values\": [0, 50, 100, 150, 200, 250, 300, 350, 400, 450, 500, 550, 600, 650, 700, 750, 800, 850, 900, 950]}, \"field\": \"genomes\", \"type\": \"quantitative\"}, \"y\": {\"field\": \"value\", \"type\": \"quantitative\"}}, \"height\": 300, \"transform\": [{\"fold\": [\"enrichseq\", \"fastvirome\", \"bracken\"]}], \"width\": 800, \"$schema\": \"https://vega.github.io/schema/vega-lite/v4.17.0.json\", \"datasets\": {\"data-448f354b7b2d58330055cf7d086a2517\": [{\"genomes\": 1, \"enrichseq\": 1.0, \"fastvirome\": 1.0, \"bracken\": 0.47}, {\"genomes\": 5, \"enrichseq\": 1.0, \"fastvirome\": 1.0, \"bracken\": 0.43}, {\"genomes\": 10, \"enrichseq\": 1.0, \"fastvirome\": 1.0, \"bracken\": 0.23}, {\"genomes\": 100, \"enrichseq\": 0.9, \"fastvirome\": 0.85, \"bracken\": 0.16}, {\"genomes\": 1000, \"enrichseq\": 0.85, \"fastvirome\": 0.75, \"bracken\": 0.1}]}}, {\"mode\": \"vega-lite\"});\n",
       "</script>"
      ],
      "text/plain": [
       "alt.Chart(...)"
      ]
     },
     "execution_count": 10,
     "metadata": {},
     "output_type": "execute_result"
    }
   ],
   "source": [
    "import pandas as pd\n",
    "import numpy as np\n",
    "import altair as alt\n",
    "test_results = pd.DataFrame({'tool': ['EnrichSeq', 'FastViromeExplorer', 'Bracken',\n",
    "                              'EnrichSeq', 'FastViromeExplorer', 'Bracken',\n",
    "                              'EnrichSeq', 'FastViromeExplorer', 'Bracken',\n",
    "                              'EnrichSeq', 'FastViromeExplorer', 'Bracken'],\n",
    "                     'genomes': [1,1,1,\n",
    "                                 5, 5, 5,\n",
    "                                 100, 100, 100,\n",
    "                                 1000, 1000, 1000],\n",
    "                     'f1_score': [1.0, 1.0, 0.16, \n",
    "                                  1.0, 1.0, 0.23, \n",
    "                                  1.0, 1.0, 0.31,\n",
    "                                  0.83, 0.7, 0.47]})\n",
    "\n",
    "\n",
    "data = pd.DataFrame({\n",
    "    'genomes': [1, 5, 10, 100, 1000],\n",
    "    'enrichseq': [1.0, 1.0, 1.0, 0.9, 0.85],\n",
    "    'fastvirome': [1.0, 1.0, 1.0, 0.85, 0.75],\n",
    "    'bracken': [0.47, 0.43, 0.23, 0.16, 0.1]\n",
    "})\n",
    "\n",
    "\n",
    "alt.Chart(data).transform_fold(\n",
    "    ['enrichseq', 'fastvirome', 'bracken'],\n",
    ").mark_circle(size=40).encode(\n",
    "    alt.X('genomes:Q', axis=alt.Axis(values=list(range(0, 1000, 50)))),\n",
    "    #x='genomes:N',\n",
    "    y='value:Q',\n",
    "    color='key:N'\n",
    ").properties(\n",
    "    width=800,\n",
    "    height=300\n",
    ")\n",
    "\n"
   ]
  },
  {
   "cell_type": "code",
   "execution_count": 22,
   "metadata": {},
   "outputs": [
    {
     "data": {
      "text/html": [
       "\n",
       "<div id=\"altair-viz-46f754a4e7bf4b929c976e2c10d86cda\"></div>\n",
       "<script type=\"text/javascript\">\n",
       "  var VEGA_DEBUG = (typeof VEGA_DEBUG == \"undefined\") ? {} : VEGA_DEBUG;\n",
       "  (function(spec, embedOpt){\n",
       "    let outputDiv = document.currentScript.previousElementSibling;\n",
       "    if (outputDiv.id !== \"altair-viz-46f754a4e7bf4b929c976e2c10d86cda\") {\n",
       "      outputDiv = document.getElementById(\"altair-viz-46f754a4e7bf4b929c976e2c10d86cda\");\n",
       "    }\n",
       "    const paths = {\n",
       "      \"vega\": \"https://cdn.jsdelivr.net/npm//vega@5?noext\",\n",
       "      \"vega-lib\": \"https://cdn.jsdelivr.net/npm//vega-lib?noext\",\n",
       "      \"vega-lite\": \"https://cdn.jsdelivr.net/npm//vega-lite@4.17.0?noext\",\n",
       "      \"vega-embed\": \"https://cdn.jsdelivr.net/npm//vega-embed@6?noext\",\n",
       "    };\n",
       "\n",
       "    function maybeLoadScript(lib, version) {\n",
       "      var key = `${lib.replace(\"-\", \"\")}_version`;\n",
       "      return (VEGA_DEBUG[key] == version) ?\n",
       "        Promise.resolve(paths[lib]) :\n",
       "        new Promise(function(resolve, reject) {\n",
       "          var s = document.createElement('script');\n",
       "          document.getElementsByTagName(\"head\")[0].appendChild(s);\n",
       "          s.async = true;\n",
       "          s.onload = () => {\n",
       "            VEGA_DEBUG[key] = version;\n",
       "            return resolve(paths[lib]);\n",
       "          };\n",
       "          s.onerror = () => reject(`Error loading script: ${paths[lib]}`);\n",
       "          s.src = paths[lib];\n",
       "        });\n",
       "    }\n",
       "\n",
       "    function showError(err) {\n",
       "      outputDiv.innerHTML = `<div class=\"error\" style=\"color:red;\">${err}</div>`;\n",
       "      throw err;\n",
       "    }\n",
       "\n",
       "    function displayChart(vegaEmbed) {\n",
       "      vegaEmbed(outputDiv, spec, embedOpt)\n",
       "        .catch(err => showError(`Javascript Error: ${err.message}<br>This usually means there's a typo in your chart specification. See the javascript console for the full traceback.`));\n",
       "    }\n",
       "\n",
       "    if(typeof define === \"function\" && define.amd) {\n",
       "      requirejs.config({paths});\n",
       "      require([\"vega-embed\"], displayChart, err => showError(`Error loading script: ${err.message}`));\n",
       "    } else {\n",
       "      maybeLoadScript(\"vega\", \"5\")\n",
       "        .then(() => maybeLoadScript(\"vega-lite\", \"4.17.0\"))\n",
       "        .then(() => maybeLoadScript(\"vega-embed\", \"6\"))\n",
       "        .catch(showError)\n",
       "        .then(() => displayChart(vegaEmbed));\n",
       "    }\n",
       "  })({\"config\": {\"view\": {\"continuousWidth\": 400, \"continuousHeight\": 300, \"stroke\": \"transparent\"}}, \"data\": {\"name\": \"data-448f354b7b2d58330055cf7d086a2517\"}, \"mark\": \"bar\", \"encoding\": {\"color\": {\"field\": \"key\", \"sort\": [\"enrichseq\", \"fastvirome\", \"bracken\"], \"type\": \"nominal\"}, \"column\": {\"field\": \"genomes\", \"header\": {\"titleOrient\": \"bottom\"}, \"spacing\": 10, \"type\": \"nominal\"}, \"x\": {\"axis\": null, \"field\": \"key\", \"sort\": [\"enrichseq\", \"fastvirome\", \"bracken\"], \"type\": \"nominal\"}, \"y\": {\"axis\": {\"values\": [0.0, 0.2, 0.4, 0.6000000000000001, 0.8, 1.0, 1.2000000000000002, 1.4000000000000001]}, \"field\": \"value\", \"title\": \"F1 score\", \"type\": \"quantitative\"}}, \"transform\": [{\"fold\": [\"enrichseq\", \"fastvirome\", \"bracken\"]}], \"$schema\": \"https://vega.github.io/schema/vega-lite/v4.17.0.json\", \"datasets\": {\"data-448f354b7b2d58330055cf7d086a2517\": [{\"genomes\": 1, \"enrichseq\": 1.0, \"fastvirome\": 1.0, \"bracken\": 0.47}, {\"genomes\": 5, \"enrichseq\": 1.0, \"fastvirome\": 1.0, \"bracken\": 0.43}, {\"genomes\": 10, \"enrichseq\": 1.0, \"fastvirome\": 1.0, \"bracken\": 0.23}, {\"genomes\": 100, \"enrichseq\": 0.9, \"fastvirome\": 0.85, \"bracken\": 0.16}, {\"genomes\": 1000, \"enrichseq\": 0.85, \"fastvirome\": 0.75, \"bracken\": 0.1}]}}, {\"mode\": \"vega-lite\"});\n",
       "</script>"
      ],
      "text/plain": [
       "alt.Chart(...)"
      ]
     },
     "execution_count": 22,
     "metadata": {},
     "output_type": "execute_result"
    }
   ],
   "source": [
    "alt.Chart(data).transform_fold(\n",
    "    ['enrichseq', 'fastvirome', 'bracken'],\n",
    ").mark_bar().encode(\n",
    "    x =alt.X('key:N', sort = ['enrichseq','fastvirome', 'bracken'], axis=None),\n",
    "    #x='key:N',\n",
    "    y=alt.Y('value:Q', title='F1 score',  axis=alt.Axis(values=np.arange(0, 1.5, 0.2))),\n",
    "    color=alt.Color('key:N',\n",
    "            sort=['enrichseq', 'fastvirome', 'bracken']),\n",
    "    #column = alt.Column('genomes:O', spacing = 10, header = alt.Header(titleOrient='bottom', labelOrient='bottom'))\n",
    "    column = alt.Column('genomes:N', spacing = 10, header = alt.Header(titleOrient='bottom'))\n",
    ").configure_view(stroke='transparent')"
   ]
  },
  {
   "cell_type": "code",
   "execution_count": null,
   "metadata": {},
   "outputs": [],
   "source": []
  }
 ],
 "metadata": {
  "kernelspec": {
   "display_name": "Python 3",
   "language": "python",
   "name": "python3"
  },
  "language_info": {
   "codemirror_mode": {
    "name": "ipython",
    "version": 3
   },
   "file_extension": ".py",
   "mimetype": "text/x-python",
   "name": "python",
   "nbconvert_exporter": "python",
   "pygments_lexer": "ipython3",
   "version": "3.7.3"
  }
 },
 "nbformat": 4,
 "nbformat_minor": 4
}
